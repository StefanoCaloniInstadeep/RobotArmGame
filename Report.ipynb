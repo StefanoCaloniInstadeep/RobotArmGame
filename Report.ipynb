{
 "cells": [
  {
   "cell_type": "markdown",
   "metadata": {},
   "source": [
    "# PPO\n"
   ]
  },
  {
   "cell_type": "markdown",
   "metadata": {},
   "source": [
    "## Implementation\n",
    "\n",
    "The Proximal Policy Optimization algorithm [(wiki page)](https://en.wikipedia.org/wiki/Proximal_policy_optimization) is an optimization algorithm to directly train the policy. \n",
    "The policy usually comes with two neural networks, one to model the action to be taken and one to estimate the value of a given state. The two networks can share some common layers if needed.\n",
    "\n",
    "### Learning algorithm\n",
    "\n",
    "The deep neural network Actor is used to predict the best actions for a given state.\n",
    "The deep neural network Critic is used to predict the return for a given state.\n",
    "\n",
    "Training directly the policy is not an easy task and it can lead to instability. \n",
    "\n",
    "PPO offers some techniques to help reducing this problem.\n",
    "\n",
    "- Using a memory history of previous experience (rollout). The learning happens on a shuffled memory, this helps breaking the correlation between a sequence of steps/ recent steps. Hence the agent learns a more generic behavior.\n",
    "\n",
    "- Use two networks, once for the training and driving the action and one for the value.  This further reduce the correlation between action and sequence, plus reduces the so called \"moving target\" problem. \n",
    "\n",
    "- Clippint the cost function, it guarantees the update is close to the current policy.\n",
    "\n",
    "It also offers some key point to leverage spped up:\n",
    "\n",
    "- Reuse the same memory multiple times, as we update closely to the current policy we can still use the rollouts of a past policy. We simply rebase the log probs given the new policy.\n",
    "\n",
    "- Traing and rollout are separate, we can hence massively parallelize the rollouts.\n",
    "\n",
    "\n",
    "Note, for continuous action, for continuous actions the actor network is not returning the actual action for the envinronment. \n",
    "\n",
    "It is returning the \"mean\" value, we then use a Gaussian distribution with a given standard deviation to the sample the actual action.\n",
    "\n",
    "\n",
    "\n",
    "#### Hyperparameters\n",
    "For calculating expected return and generalized advange\n",
    "- GAMMA: 0.99\n",
    "- TAU:   0.95\n",
    "\n",
    "For adam optimizer:\n",
    "- LR: 2e-4\n",
    "\n",
    "For cost function computation and clipping:\n",
    "- ENTROPY_BETA:  0.001\n",
    "- EPS:           0.2\n",
    "\n",
    "For memory rollout and number of updated before discarding the memory\n",
    "- NUM_STEPS:   512\n",
    "- BATCH_SIZE:  128\n",
    "- PPO_UPDATES: 4\n",
    "\n",
    "\n",
    "\n",
    "#### Model architecture\n",
    "\n",
    "The critic network is composed of 3 fully connected layers, with relu activation functions:\n",
    "- 33x64 \n",
    "- Relu\n",
    "- 64x64\n",
    "- Relu\n",
    "- 64x1\n",
    "\n",
    "The actor network is composed of 3 fully connected layers with relu activation function, plus a final Tanh to final value is applied:\n",
    "- 33x64\n",
    "- Relu\n",
    "- 64x64\n",
    "- Relu\n",
    "- 64x4\n",
    "- Tanh\n",
    "\n",
    "The log_std for the actor network is set to 0.0 and it is not changed during the training."
   ]
  },
  {
   "attachments": {},
   "cell_type": "markdown",
   "metadata": {},
   "source": [
    "## Result\n",
    "\n",
    "The agent is able to achieve the required performance after 175 episodes.\n",
    "\n",
    "(it is however very sensible to changes in parameters that can lead to stalling the training or even getting a worse performance).\n",
    "\n"
   ]
  },
  {
   "attachments": {
    "ppo_training_history.png": {
     "image/png": "[encoded data removed]"
    }
   },
   "cell_type": "markdown",
   "metadata": {},
   "source": [
    "![ppo_training_history.png](attachment:ppo_training_history.png)"
   ]
  },
  {
   "cell_type": "markdown",
   "metadata": {},
   "source": [
    "## Possible Improvements\n",
    "It is possible to further improve the PPO algorithm by implementing additional features:\n",
    "- \"investigate robustness\", changing the size of rollout (example passing from 512 to 1024) or other parameter is increasing the learning rate at the beginning of the training. However it also causes a deep crash in later episodes (stalling at 22-24 and then becoming even worse). It is worht investigating how to prevent this.\n",
    "- \"advantage normalization\", normalizing the advantages can help speed up the training when the returns are dimishing.\n",
    "- \"reducing std\", at every update reduce the standard deviation used in the actor network. This is similar to reduce the epsilon in a eps-greedy policy, towards the end of the optimization exploitation is prefered over exploration.\n",
    "- \"alternative approaches to DDPG\".\n"
   ]
  },
  {
   "cell_type": "code",
   "execution_count": null,
   "metadata": {},
   "outputs": [],
   "source": []
  }
 ],
 "metadata": {
  "kernelspec": {
   "display_name": "drlnd",
   "language": "python",
   "name": "drlnd"
  },
  "language_info": {
   "codemirror_mode": {
    "name": "ipython",
    "version": 3
   },
   "file_extension": ".py",
   "mimetype": "text/x-python",
   "name": "python",
   "nbconvert_exporter": "python",
   "pygments_lexer": "ipython3",
   "version": "3.6.13"
  }
 },
 "nbformat": 4,
 "nbformat_minor": 2
}
